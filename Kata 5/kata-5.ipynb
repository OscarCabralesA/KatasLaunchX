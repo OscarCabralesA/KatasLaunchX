{
 "cells": [
  {
   "cell_type": "markdown",
   "metadata": {},
   "source": [
    "# Ejercicio 1: Utilizar operadores aritméticos"
   ]
  },
  {
   "cell_type": "code",
   "execution_count": 12,
   "metadata": {},
   "outputs": [
    {
     "name": "stdout",
     "output_type": "stream",
     "text": [
      "Distance between Earth and Jupyter: \n",
      ">> 628949330 KM\n",
      ">> 390577533.93 MI\n"
     ]
    }
   ],
   "source": [
    "earth_sun_km = 149597870 #km\n",
    "jupiter_sun_km = 778547200 #km\n",
    "\n",
    "earth_jupiter_km = jupiter_sun_km - earth_sun_km\n",
    "earth_jupiter_mi = earth_jupiter_km * 0.621\n",
    "\n",
    "print(f\"Distance between Earth and Jupiter: \\n>> {earth_jupiter_km} KM\\n>> {round(earth_jupiter_mi)} MI\")"
   ]
  },
  {
   "cell_type": "markdown",
   "metadata": {},
   "source": [
    "# Ejercicio 2: convierte cadenas en números y usa valores absolutos"
   ]
  },
  {
   "cell_type": "code",
   "execution_count": 14,
   "metadata": {},
   "outputs": [
    {
     "ename": "ValueError",
     "evalue": "invalid literal for int() with base 10: ''",
     "output_type": "error",
     "traceback": [
      "\u001b[1;31m---------------------------------------------------------------------------\u001b[0m",
      "\u001b[1;31mValueError\u001b[0m                                Traceback (most recent call last)",
      "\u001b[1;32mc:\\Users\\lalor\\OneDrive - Universidad de Guadalajara\\LaunchX\\Kata 5\\kata-5.ipynb Cell 4'\u001b[0m in \u001b[0;36m<module>\u001b[1;34m\u001b[0m\n\u001b[0;32m      <a href='vscode-notebook-cell:/c%3A/Users/lalor/OneDrive%20-%20Universidad%20de%20Guadalajara/LaunchX/Kata%205/kata-5.ipynb#ch0000003?line=0'>1</a>\u001b[0m planet1_sun \u001b[39m=\u001b[39m \u001b[39minput\u001b[39m(\u001b[39m\"\u001b[39m\u001b[39mFirst planet distance from sun (KM):     \u001b[39m\u001b[39m\"\u001b[39m)\n\u001b[0;32m      <a href='vscode-notebook-cell:/c%3A/Users/lalor/OneDrive%20-%20Universidad%20de%20Guadalajara/LaunchX/Kata%205/kata-5.ipynb#ch0000003?line=1'>2</a>\u001b[0m planet2_sun \u001b[39m=\u001b[39m \u001b[39minput\u001b[39m(\u001b[39m\"\u001b[39m\u001b[39mSecond planet distance from sun (KM):    \u001b[39m\u001b[39m\"\u001b[39m)\n\u001b[1;32m----> <a href='vscode-notebook-cell:/c%3A/Users/lalor/OneDrive%20-%20Universidad%20de%20Guadalajara/LaunchX/Kata%205/kata-5.ipynb#ch0000003?line=3'>4</a>\u001b[0m planet1_sun \u001b[39m=\u001b[39m \u001b[39mint\u001b[39;49m(planet1_sun)\n\u001b[0;32m      <a href='vscode-notebook-cell:/c%3A/Users/lalor/OneDrive%20-%20Universidad%20de%20Guadalajara/LaunchX/Kata%205/kata-5.ipynb#ch0000003?line=4'>5</a>\u001b[0m planet2_sun \u001b[39m=\u001b[39m \u001b[39mint\u001b[39m(planet2_sun)\n\u001b[0;32m      <a href='vscode-notebook-cell:/c%3A/Users/lalor/OneDrive%20-%20Universidad%20de%20Guadalajara/LaunchX/Kata%205/kata-5.ipynb#ch0000003?line=6'>7</a>\u001b[0m distance_km \u001b[39m=\u001b[39m \u001b[39mabs\u001b[39m(planet1_sun \u001b[39m-\u001b[39m planet2_sun)\n",
      "\u001b[1;31mValueError\u001b[0m: invalid literal for int() with base 10: ''"
     ]
    }
   ],
   "source": [
    "planet1_sun = input(\"First planet distance from sun (KM):     \")\n",
    "planet2_sun = input(\"Second planet distance from sun (KM):    \")\n",
    "\n",
    "planet1_sun = int(planet1_sun)\n",
    "planet2_sun = int(planet2_sun)\n",
    "\n",
    "distance_km = abs(planet1_sun - planet2_sun)\n",
    "distance_mi = distance_km * 0.621\n",
    "\n",
    "print(f\"Distance between planets is: \\n>> {distance_km} KM\\n>> {round(distance_mi)} MI\")"
   ]
  }
 ],
 "metadata": {
  "interpreter": {
   "hash": "1e2799d84300726dcf515153af83afcc43c2bd65b25cb8e36d6f43e8d73802d0"
  },
  "kernelspec": {
   "display_name": "Python 3.10.2 64-bit",
   "language": "python",
   "name": "python3"
  },
  "language_info": {
   "codemirror_mode": {
    "name": "ipython",
    "version": 3
   },
   "file_extension": ".py",
   "mimetype": "text/x-python",
   "name": "python",
   "nbconvert_exporter": "python",
   "pygments_lexer": "ipython3",
   "version": "3.10.2"
  },
  "orig_nbformat": 4
 },
 "nbformat": 4,
 "nbformat_minor": 2
}
