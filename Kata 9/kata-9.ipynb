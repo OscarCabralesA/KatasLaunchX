{
 "cells": [
  {
   "cell_type": "markdown",
   "metadata": {},
   "source": [
    "### Ejercicio 1: Trabajar con argumentos en funciones"
   ]
  },
  {
   "cell_type": "code",
   "execution_count": 29,
   "metadata": {},
   "outputs": [],
   "source": [
    "# returns a string representation of a completion bar\n",
    "def completion_bar(sign, total_chars, value):\n",
    "    bar = str(sign)*int(total_chars * value/100)\n",
    "    return bar.ljust(total_chars, '.') + f'{round(value)}%'"
   ]
  },
  {
   "cell_type": "markdown",
   "metadata": {},
   "source": [
    "Comienza por crear una función que necesite tres lecturas de combustible y devuelva un informe:"
   ]
  },
  {
   "cell_type": "code",
   "execution_count": 30,
   "metadata": {},
   "outputs": [],
   "source": [
    "def fuel_info(main_tank, secondary_tank, emergency_tank):\n",
    "    fuel_average = (main_tank + secondary_tank + emergency_tank) / 3\n",
    "\n",
    "    return f\"\"\"{'FUEL REPORT'.center(60, '-')}\n",
    "fuel average    {completion_bar('>', 40, fuel_average)}\n",
    "main tank       {completion_bar('>', 40, main_tank)}\n",
    "secondary tank  {completion_bar('>', 40, secondary_tank)}\n",
    "emergency tank  {completion_bar('>', 40, emergency_tank)}\"\"\"\n",
    " "
   ]
  },
  {
   "cell_type": "markdown",
   "metadata": {},
   "source": [
    "Ahora que hemos definido la función de informes, vamos a comprobarlo. Para esta misión, los tanques no están llenos:"
   ]
  },
  {
   "cell_type": "code",
   "execution_count": 31,
   "metadata": {},
   "outputs": [
    {
     "name": "stdout",
     "output_type": "stream",
     "text": [
      "------------------------FUEL REPORT-------------------------\n",
      "fuel average    >>>>>>>>>>>>>>>>>>>>....................52%\n",
      "main tank       >>>>>>>>>>..............................25%\n",
      "secondary tank  >>>>>>>>>>>>>>>>>>>>>>>>................60%\n",
      "emergency tank  >>>>>>>>>>>>>>>>>>>>>>>>>>>>............70%\n"
     ]
    }
   ],
   "source": [
    "print(fuel_info(25,60,70))"
   ]
  },
  {
   "cell_type": "markdown",
   "metadata": {},
   "source": [
    "En lugar de simplemente crear el informe, la función también está calculando el promedio. Mejora la legibilidad extrayendo el cálculo promedio de la función en una nueva función para que el promedio se pueda hacer de forma independiente:"
   ]
  },
  {
   "cell_type": "code",
   "execution_count": 32,
   "metadata": {},
   "outputs": [],
   "source": [
    "def average(values):\n",
    "    return sum(values) / len(values)"
   ]
  },
  {
   "cell_type": "markdown",
   "metadata": {},
   "source": [
    "Ahora actualiza la función de informes para llamando a la nueva función del promedio:"
   ]
  },
  {
   "cell_type": "code",
   "execution_count": 33,
   "metadata": {},
   "outputs": [],
   "source": [
    "def fuel_info(main_tank, secondary_tank, emergency_tank):\n",
    "    fuel_average = average([main_tank, secondary_tank, emergency_tank])\n",
    "\n",
    "    return f\"\"\"{'FUEL REPORT'.center(60, '-')}\n",
    "fuel average    {completion_bar('>', 40, fuel_average)}\n",
    "main tank       {completion_bar('>', 40, main_tank)}\n",
    "secondary tank  {completion_bar('>', 40, secondary_tank)}\n",
    "emergency tank  {completion_bar('>', 40, emergency_tank)}\"\"\""
   ]
  },
  {
   "cell_type": "code",
   "execution_count": 34,
   "metadata": {},
   "outputs": [
    {
     "name": "stdout",
     "output_type": "stream",
     "text": [
      "------------------------FUEL REPORT-------------------------\n",
      "fuel average    >>>>>>>>>>>>>>>>>>>>....................50%\n",
      "main tank       >>>>>>>>>>>>>>>>>>>>>>>>>>>>>>>>........80%\n",
      "secondary tank  >>>>>>>>>>>>>>>>>>>>....................50%\n",
      "emergency tank  >>>>>>>>................................20%\n"
     ]
    }
   ],
   "source": [
    "print(fuel_info(80,50,20))"
   ]
  },
  {
   "cell_type": "markdown",
   "metadata": {},
   "source": [
    "### Ejercicio 2: Trabajo con argumentos de palabra clave"
   ]
  },
  {
   "cell_type": "markdown",
   "metadata": {},
   "source": [
    "En este ejercicio, construirás un informe de cohete que requiere varias piezas de información, como el tiempo hasta el destino, el combustible a la izquierda y el nombre del destino. Comienza por crear una función que creará un informe preciso de la misión:"
   ]
  },
  {
   "cell_type": "code",
   "execution_count": 35,
   "metadata": {},
   "outputs": [],
   "source": [
    "def mission_report(prelaunch_hour, fly_time, destination, external_tank, internal_tank):\n",
    "    return f\"\"\"{'MISSION REPORT'.center(40, '#')}\n",
    "PreLaunch Hour: {prelaunch_hour}\n",
    "Fly time:       {fly_time}\n",
    "Destination:    {destination}\n",
    "External Tank:  {completion_bar('>', 40, external_tank)}\n",
    "Internal Tank:  {completion_bar('>', 40, internal_tank)}\n",
    "\"\"\""
   ]
  },
  {
   "cell_type": "markdown",
   "metadata": {},
   "source": [
    "La función es problemática porque no se puede adaptar para minutos adicionales o tanques adicionales de combustible. Hazlo más flexible permitiendo cualquier número de pasos basados en el tiempo y cualquier número de tanques. En lugar de usar *args y **kwargs, aprovecha el hecho de que puedes usar cualquier nombre que desees. Asegurate que la función sea más legible mediante el uso de nombres de variables que están asociados con las entradas, como *minutes y **fuel_reservoirs:"
   ]
  },
  {
   "cell_type": "code",
   "execution_count": 36,
   "metadata": {},
   "outputs": [
    {
     "name": "stdout",
     "output_type": "stream",
     "text": [
      "-------------------MISSION REPORT-------------------        \n",
      "PreLaunch Hour:   14:27:02.497446        \n",
      "Destination:      Moon        \n",
      "Fly time:         79 minutes        \n",
      "Total fuel left:  >>>>>>>>>>>>>>>>>>>...........66%\n"
     ]
    }
   ],
   "source": [
    "from datetime import timedelta, datetime\n",
    "\n",
    "def mission_report(prelaunch_hour, destination,*minutes, **fuel_reservoirs):\n",
    "    fly_time = sum(minutes)\n",
    "    fuel_left = sum(fuel_reservoirs.values())\n",
    "\n",
    "    return f\"{'MISSION REPORT'.center(52, '-')}\\\n",
    "        \\nPreLaunch Hour:   {prelaunch_hour}\\\n",
    "        \\nDestination:      {destination}\\\n",
    "        \\nFly time:         {fly_time} minutes\\\n",
    "        \\nTotal fuel left:  {completion_bar('>', 30, fuel_left)}\"\n",
    "\n",
    "print(mission_report(datetime.now(), 'Moon', 5, 4, 60, 10, InternalTank=10, ExternalTank=56))"
   ]
  },
  {
   "cell_type": "markdown",
   "metadata": {},
   "source": [
    "Debido a que el combustible que queda en los tanques es específico de cada tanque, actualiza la función para usar el nombre de cada tanque en el informe:"
   ]
  },
  {
   "cell_type": "code",
   "execution_count": 37,
   "metadata": {},
   "outputs": [
    {
     "name": "stdout",
     "output_type": "stream",
     "text": [
      "-------------------MISSION REPORT-------------------        \n",
      "PreLaunch Hour:   2022-02-13 14:27:02.537454        \n",
      "Destination:      Moon        \n",
      "Fly time:         79 minutes        \n",
      "Total fuel left:  >>>>>>>>>>>>>>>>>>>...........66%        \n",
      "InternalTank      >>>...........................10%\n",
      "ExternalTank      >>>>>>>>>>>>>>>>..............56%\n",
      "\n"
     ]
    }
   ],
   "source": [
    "from datetime import timedelta, datetime\n",
    "\n",
    "def mission_report(prelaunch_hour, destination,*minutes, **fuel_reservoirs):\n",
    "    fly_time = sum(minutes)\n",
    "    fuel_left = sum(fuel_reservoirs.values())\n",
    "    fuels = ''\n",
    "    for tank_name, value in fuel_reservoirs.items():\n",
    "        fuels += f\"{tank_name}      {completion_bar('>', 30, value)}\\n\"\n",
    "\n",
    "    return f\"{'MISSION REPORT'.center(52, '-')}\\\n",
    "        \\nPreLaunch Hour:   {prelaunch_hour}\\\n",
    "        \\nDestination:      {destination}\\\n",
    "        \\nFly time:         {fly_time} minutes\\\n",
    "        \\nTotal fuel left:  {completion_bar('>', 30, fuel_left)}\\\n",
    "        \\n{fuels}\"\n",
    "\n",
    "\n",
    "print(mission_report(datetime.now(), 'Moon', 5, 4, 60, 10, InternalTank=10, ExternalTank=56))"
   ]
  }
 ],
 "metadata": {
  "interpreter": {
   "hash": "1e2799d84300726dcf515153af83afcc43c2bd65b25cb8e36d6f43e8d73802d0"
  },
  "kernelspec": {
   "display_name": "Python 3.10.2 64-bit",
   "language": "python",
   "name": "python3"
  },
  "language_info": {
   "codemirror_mode": {
    "name": "ipython",
    "version": 3
   },
   "file_extension": ".py",
   "mimetype": "text/x-python",
   "name": "python",
   "nbconvert_exporter": "python",
   "pygments_lexer": "ipython3",
   "version": "3.10.2"
  },
  "orig_nbformat": 4
 },
 "nbformat": 4,
 "nbformat_minor": 2
}
