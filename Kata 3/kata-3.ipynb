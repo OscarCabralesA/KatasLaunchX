{
 "cells": [
  {
   "cell_type": "code",
   "execution_count": 13,
   "metadata": {},
   "outputs": [
    {
     "name": "stdout",
     "output_type": "stream",
     "text": [
      "ALERT: asteroid approaching Earth really fast!\n"
     ]
    }
   ],
   "source": [
    "astoroid_speed = 49.0\n",
    "\n",
    "if astoroid_speed > 25:\n",
    "    print(\"ALERT: asteroid approaching Earth really fast!\")\n",
    "else:\n",
    "    print(\"SAFE: go on with your day\")\n"
   ]
  },
  {
   "cell_type": "code",
   "execution_count": 12,
   "metadata": {},
   "outputs": [
    {
     "name": "stdout",
     "output_type": "stream",
     "text": [
      "All safe\n"
     ]
    }
   ],
   "source": [
    "asteroid_speed = 19.0\n",
    "\n",
    "if asteroid_speed > 20.0:\n",
    "    print(\"WARNING: look at the sky for asteroid light!\")\n",
    "elif asteroid_speed == 20.0:\n",
    "    print(\"WARNING: look at the sky for asteroid light!\")\n",
    "else:\n",
    "    print(\"All safe\")"
   ]
  },
  {
   "cell_type": "code",
   "execution_count": 11,
   "metadata": {},
   "outputs": [
    {
     "name": "stdout",
     "output_type": "stream",
     "text": [
      "all safe c:\n"
     ]
    }
   ],
   "source": [
    "asteroid_speed = 15\n",
    "asteroid_size = 10\n",
    "\n",
    "if asteroid_speed > 25.0 and asteroid_size >= 25.0:\n",
    "    print(\"ALERT: asteroid aproaching really fast, might cause serious damage!\")\n",
    "elif asteroid_speed >= 20.0:\n",
    "    print(\"WARNING: look at the sky for asteroid light!\")\n",
    "elif asteroid_size < 25:\n",
    "    print(\"all safe c:\")\n",
    "else:\n",
    "    print(\"all safe c:\")\n"
   ]
  }
 ],
 "metadata": {
  "interpreter": {
   "hash": "6d38b4aa70746ac35f34700f0c7d63f101b5a62157bd8a23198e86fc36064c59"
  },
  "kernelspec": {
   "display_name": "Python 3.8.7 64-bit",
   "language": "python",
   "name": "python3"
  },
  "language_info": {
   "codemirror_mode": {
    "name": "ipython",
    "version": 3
   },
   "file_extension": ".py",
   "mimetype": "text/x-python",
   "name": "python",
   "nbconvert_exporter": "python",
   "pygments_lexer": "ipython3",
   "version": "3.8.7"
  },
  "orig_nbformat": 4
 },
 "nbformat": 4,
 "nbformat_minor": 2
}
