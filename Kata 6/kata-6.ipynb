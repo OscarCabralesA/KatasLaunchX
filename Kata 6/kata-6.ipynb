{
 "cells": [
  {
   "cell_type": "markdown",
   "metadata": {},
   "source": [
    "## Ejercicio 1: Crear y usar listas de Python\n",
    "#### Ejercicio: Usar listas para almacenar nombres de planetas"
   ]
  },
  {
   "cell_type": "code",
   "execution_count": null,
   "metadata": {},
   "outputs": [],
   "source": [
    "planets = ['Mercury', 'Venus', 'Earth', 'Mars', 'Jupiter', 'Saturn', 'Uranus', 'Neptune']\n",
    "print(f\"The planets in the Solar System are: \", planets)\n",
    "\n",
    "planets.append('Pluto')\n",
    "print(f\"There are now {len(planets)} planets in the Solar System.\\nThe new planet is: {planets[-1]}\")"
   ]
  },
  {
   "cell_type": "markdown",
   "metadata": {},
   "source": [
    "## Ejercicio 2: Trabajando con datos de una lista\n",
    "#### Usar slices para recuperar partes de una lista"
   ]
  },
  {
   "cell_type": "code",
   "execution_count": 16,
   "metadata": {},
   "outputs": [
    {
     "ename": "ValueError",
     "evalue": "'' is not in list",
     "output_type": "error",
     "traceback": [
      "\u001b[1;31m---------------------------------------------------------------------------\u001b[0m",
      "\u001b[1;31mValueError\u001b[0m                                Traceback (most recent call last)",
      "\u001b[1;32mc:\\Users\\lalor\\OneDrive - Universidad de Guadalajara\\LaunchX\\Kata 6\\kata-6.ipynb Cell 4'\u001b[0m in \u001b[0;36m<module>\u001b[1;34m\u001b[0m\n\u001b[0;32m      <a href='vscode-notebook-cell:/c%3A/Users/lalor/OneDrive%20-%20Universidad%20de%20Guadalajara/LaunchX/Kata%206/kata-6.ipynb#ch0000003?line=0'>1</a>\u001b[0m planets \u001b[39m=\u001b[39m [\u001b[39m'\u001b[39m\u001b[39mMercury\u001b[39m\u001b[39m'\u001b[39m, \u001b[39m'\u001b[39m\u001b[39mVenus\u001b[39m\u001b[39m'\u001b[39m, \u001b[39m'\u001b[39m\u001b[39mEarth\u001b[39m\u001b[39m'\u001b[39m, \u001b[39m'\u001b[39m\u001b[39mMars\u001b[39m\u001b[39m'\u001b[39m, \u001b[39m'\u001b[39m\u001b[39mJupiter\u001b[39m\u001b[39m'\u001b[39m, \u001b[39m'\u001b[39m\u001b[39mSaturn\u001b[39m\u001b[39m'\u001b[39m, \u001b[39m'\u001b[39m\u001b[39mUranus\u001b[39m\u001b[39m'\u001b[39m, \u001b[39m'\u001b[39m\u001b[39mNeptune\u001b[39m\u001b[39m'\u001b[39m]\n\u001b[0;32m      <a href='vscode-notebook-cell:/c%3A/Users/lalor/OneDrive%20-%20Universidad%20de%20Guadalajara/LaunchX/Kata%206/kata-6.ipynb#ch0000003?line=2'>3</a>\u001b[0m req_planet \u001b[39m=\u001b[39m \u001b[39minput\u001b[39m(\u001b[39m\"\u001b[39m\u001b[39mEnter a planet name: \u001b[39m\u001b[39m\"\u001b[39m)\u001b[39m.\u001b[39mcapitalize()\n\u001b[1;32m----> <a href='vscode-notebook-cell:/c%3A/Users/lalor/OneDrive%20-%20Universidad%20de%20Guadalajara/LaunchX/Kata%206/kata-6.ipynb#ch0000003?line=3'>4</a>\u001b[0m planet_num \u001b[39m=\u001b[39m planets\u001b[39m.\u001b[39;49mindex(req_planet)\n\u001b[0;32m      <a href='vscode-notebook-cell:/c%3A/Users/lalor/OneDrive%20-%20Universidad%20de%20Guadalajara/LaunchX/Kata%206/kata-6.ipynb#ch0000003?line=5'>6</a>\u001b[0m nearest_sun_planets \u001b[39m=\u001b[39m planets[\u001b[39m0\u001b[39m:planet_num]\n\u001b[0;32m      <a href='vscode-notebook-cell:/c%3A/Users/lalor/OneDrive%20-%20Universidad%20de%20Guadalajara/LaunchX/Kata%206/kata-6.ipynb#ch0000003?line=7'>8</a>\u001b[0m \u001b[39mprint\u001b[39m(\u001b[39mf\u001b[39m\u001b[39m\"\"\"\u001b[39m\u001b[39mThe nearest planets from the Sun to \u001b[39m\u001b[39m{\u001b[39;00mreq_planet\u001b[39m}\u001b[39;00m\u001b[39m are:\u001b[39m\n\u001b[0;32m      <a href='vscode-notebook-cell:/c%3A/Users/lalor/OneDrive%20-%20Universidad%20de%20Guadalajara/LaunchX/Kata%206/kata-6.ipynb#ch0000003?line=8'>9</a>\u001b[0m \u001b[39m>> \u001b[39m\u001b[39m{\u001b[39;00mnearest_sun_planets\u001b[39m}\u001b[39;00m\u001b[39m\"\"\"\u001b[39m)\n",
      "\u001b[1;31mValueError\u001b[0m: '' is not in list"
     ]
    }
   ],
   "source": [
    "planets = ['Mercury', 'Venus', 'Earth', 'Mars', 'Jupiter', 'Saturn', 'Uranus', 'Neptune']\n",
    "\n",
    "req_planet = input(\"Enter a planet name: \").capitalize()\n",
    "planet_num = planets.index(req_planet)\n",
    "\n",
    "nearest_sun_planets = planets[0:planet_num]\n",
    "\n",
    "print(f\"\"\"The nearest planets from the Sun to {req_planet} are:\n",
    ">> {nearest_sun_planets}\"\"\")\n",
    "\n",
    "farest_sun_planets = planets[planet_num+1:]\n",
    "\n",
    "print(f\"\"\"The farthest planets are: \n",
    ">> {farest_sun_planets}\"\"\")"
   ]
  }
 ],
 "metadata": {
  "interpreter": {
   "hash": "1e2799d84300726dcf515153af83afcc43c2bd65b25cb8e36d6f43e8d73802d0"
  },
  "kernelspec": {
   "display_name": "Python 3.10.2 64-bit",
   "language": "python",
   "name": "python3"
  },
  "language_info": {
   "codemirror_mode": {
    "name": "ipython",
    "version": 3
   },
   "file_extension": ".py",
   "mimetype": "text/x-python",
   "name": "python",
   "nbconvert_exporter": "python",
   "pygments_lexer": "ipython3",
   "version": "3.10.2"
  },
  "orig_nbformat": 4
 },
 "nbformat": 4,
 "nbformat_minor": 2
}
