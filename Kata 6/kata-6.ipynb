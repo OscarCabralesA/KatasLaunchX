{
 "cells": [
  {
   "cell_type": "markdown",
   "metadata": {},
   "source": [
    "## Ejercicio 1: Crear y usar listas de Python\n",
    "#### Ejercicio: Usar listas para almacenar nombres de planetas"
   ]
  },
  {
   "cell_type": "code",
   "execution_count": null,
   "metadata": {},
   "outputs": [],
   "source": [
    "planets = ['Mercury', 'Venus', 'Earth', 'Mars', 'Jupiter', 'Saturn', 'Uranus', 'Neptune']\n",
    "print(f\"The planets in the Solar System are: \", planets)\n",
    "\n",
    "planets.append('Pluto')\n",
    "print(f\"There are now {len(planets)} planets in the Solar System.\\nThe new planet is: {planets[-1]}\")"
   ]
  },
  {
   "cell_type": "markdown",
   "metadata": {},
   "source": [
    "## Ejercicio 2: Trabajando con datos de una lista\n",
    "#### Usar slices para recuperar partes de una lista"
   ]
  },
  {
   "cell_type": "code",
   "execution_count": 1,
   "metadata": {},
   "outputs": [
    {
     "name": "stdout",
     "output_type": "stream",
     "text": [
      "The nearest planets from the Sun to Saturn are:\n",
      ">> ['Mercury', 'Venus', 'Earth', 'Mars', 'Jupiter']\n",
      "The farthest planets are: \n",
      ">> ['Uranus', 'Neptune']\n"
     ]
    }
   ],
   "source": [
    "planets = ['Mercury', 'Venus', 'Earth', 'Mars', 'Jupiter', 'Saturn', 'Uranus', 'Neptune']\n",
    "\n",
    "req_planet = input(\"Enter a planet name: \").capitalize()\n",
    "planet_num = planets.index(req_planet)\n",
    "\n",
    "nearest_sun_planets = planets[0:planet_num]\n",
    "\n",
    "print(f\"\"\"The nearest planets from the Sun to {req_planet} are:\n",
    ">> {nearest_sun_planets}\"\"\")\n",
    "\n",
    "farest_sun_planets = planets[planet_num+1:]\n",
    "\n",
    "print(f\"\"\"The farthest planets are: \n",
    ">> {farest_sun_planets}\"\"\")"
   ]
  }
 ],
 "metadata": {
  "interpreter": {
   "hash": "1e2799d84300726dcf515153af83afcc43c2bd65b25cb8e36d6f43e8d73802d0"
  },
  "kernelspec": {
   "display_name": "Python 3.10.2 64-bit",
   "language": "python",
   "name": "python3"
  },
  "language_info": {
   "codemirror_mode": {
    "name": "ipython",
    "version": 3
   },
   "file_extension": ".py",
   "mimetype": "text/x-python",
   "name": "python",
   "nbconvert_exporter": "python",
   "pygments_lexer": "ipython3",
   "version": "3.10.2"
  },
  "orig_nbformat": 4
 },
 "nbformat": 4,
 "nbformat_minor": 2
}
